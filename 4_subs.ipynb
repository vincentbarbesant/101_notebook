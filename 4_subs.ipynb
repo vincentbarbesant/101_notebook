{
 "cells": [
  {
   "cell_type": "markdown",
   "metadata": {},
   "source": [
    "<br><br>\n",
    "<h1 style=\"font-family:'Verdana',sans-serif; color:#1D7874; font-size:30px;\">How a transmission system operates?</h1>"
   ]
  },
  {
   "cell_type": "markdown",
   "metadata": {},
   "source": [
    "<br>\n",
    "<h2 style=\"font-family:'Verdana',sans-serif; color:#1D7874;\">Table of Contents</h2>\n",
    "<br>\n",
    "<ol style=\"font-family:'Verdana','sans-serif'; color:#393D3F; text-align:justify; font-size:14px;\">\n",
    "    <li ><a href='#introduction'>Introduction</a></li>\n",
    "    <li ><a href='#motivation'>Motivation</a></li>\n",
    "    <li><a href='#load_env'>Load an environment with pypownet</a></li>\n",
    "    <li><a href='#grid_info'>Grid information</a></li>\n",
    "    <li><a href='#grid'>The 4 substation grid</a></li>\n",
    "    <li><a href='#line_cut'>A line disconnection and its effect</a></li>\n",
    "    <li><a href='#config'>Inside a substation</a></li>\n",
    "    <li><a href='#remedial'>A remedial solution</a></li>\n",
    "    <li><a href='#conclusion'>Conclusion</a></li>\n",
    "</ol>"
   ]
  },
  {
   "cell_type": "markdown",
   "metadata": {},
   "source": [
    "<a id='introduction'></a>"
   ]
  },
  {
   "cell_type": "markdown",
   "metadata": {},
   "source": [
    "<h3 style=\"font-family:'Verdana',sans-serif; color:#1D7874;\">1. Introduction</h3>\n",
    "<p style=\"font-family:'Verdana','sans-serif'; color:#393D3F; text-align:justify; font-size:14px;\">\n",
    "    This notebook is an introduction to power system operations. One of the main goals for power grid operators is to ensure a reliable and secure continuity of delivery of electricity to consumers under some additional quality criterion that can vary from one country to another.  \n",
    "<br><br>\n",
    "    For simplicity, a four substations grid is presented here with producers and consumers meshed through a grid. However, transmission grids are more complex and have many long lines that connect different cities or states. The grid often covers an entire country linking hundreds of power plants and distribution networks. But this should illustrate clearly enough how congestion could arise on the power grid and which operation can help manage it. Congestion management is actually the most critical and time-consuming task for a power grid operator.\n",
    "<br><br> \n",
    "    <img src=\"https://i.ibb.co/fHm0Rb5/Example-Grid.jpg\", width=650, ALIGN=\"middle\", border=20>\n",
    "<p style=\"font-family:'Verdana','sans-serif'; color:#393D3F; text-align:center; font-size:11px;\">\n",
    "(courtesy by Marvin Lerousseau)\n",
    "</p>\n",
    "</p>"
   ]
  },
  {
   "cell_type": "markdown",
   "metadata": {},
   "source": [
    "<a id='motivation'></a>"
   ]
  },
  {
   "cell_type": "markdown",
   "metadata": {},
   "source": [
    "<h3 style=\"font-family:'Verdana',sans-serif; color:#1D7874;\">2. Motivation</h3>\n",
    "\n",
    "<p style=\"font-family:'Verdana','sans-serif'; color:#393D3F; text-align:justify; font-size:14px;\">\n",
    "    A power line has some physical capacity, aka thermal limit. Hence there is maximum power flow that is allowed through a line. Beyond it, a power line can break or can induce high risk for the safety of neighboring goods and people. We then say that a power line is congested, as illustrated by the power flow highlighted in yellow above. In that case, operators usually have only a few minutes to reduce the flows. It is very usual for electrical operators to set up the thermal limits above 80% of the line capacity as a warning signal to avoid undesired damages in the equipment.\n",
    "<br><br>\n",
    "    The first thing operators need to know are the power flows through the lines of the grid to anticipate and monitor congestions. Power flows can actually be computed through physical simulators, under what is called a load flow computation, given productions, consumptions and the topology (aka the graph) of the grid.\n",
    "<br><br>\n",
    "    As a first intuition, power flows increase when electrical consumption increases. More specifically, the flows in lines are affected by the dynamics of much electrical consumption and the availability of power plants or productions. It often varies along the course of a day, as consumer behaviors and usages change depending on the hour of the day: there are more activities in the middle of the day, while lighting is used mostly overnight and people finally get to sleep, leaving mostly electrical heating systems as well as some few industries in operations.   \n",
    "<br><br>  \n",
    "    As demand on power system increases over the years, the transmission system is more often forced to operate to its limits.  The congestion could be caused by day to day demand, but can also be due to some external factors such as topology grid changes by operator's actions, lines in maintenance or transient faults that can lead to cascading failures or put the system in an instability condition.\n",
    "</p>"
   ]
  },
  {
   "cell_type": "markdown",
   "metadata": {},
   "source": [
    "<a id='load_env'></a>"
   ]
  },
  {
   "cell_type": "markdown",
   "metadata": {},
   "source": [
    "<h3 style=\"font-family:'Verdana',sans-serif; color:#1D7874;\">3. Loading the environment</h3>"
   ]
  },
  {
   "cell_type": "markdown",
   "metadata": {},
   "source": [
    "<p style=\"font-family:'Verdana','sans-serif'; color:#393D3F; text-align:justify; font-size:14px;\">\n",
    "    Before starting the explanation, all libraries and the pypownet environment has to be loaded. The environment contains all essential information about the power grid such as the substations ids where the loads, generators and transmission lines are connected, the power flows and so on.\n",
    "</p>"
   ]
  },
  {
   "cell_type": "code",
   "execution_count": 1,
   "metadata": {},
   "outputs": [
    {
     "data": {
      "text/html": [
       "<script>requirejs.config({paths: { 'plotly': ['https://cdn.plot.ly/plotly-latest.min']},});if(!window.Plotly) {{require(['plotly'],function(plotly) {window.Plotly=plotly;});}}</script>"
      ],
      "text/vnd.plotly.v1+html": [
       "<script>requirejs.config({paths: { 'plotly': ['https://cdn.plot.ly/plotly-latest.min']},});if(!window.Plotly) {{require(['plotly'],function(plotly) {window.Plotly=plotly;});}}</script>"
      ]
     },
     "metadata": {},
     "output_type": "display_data"
    }
   ],
   "source": [
    "%matplotlib inline\n",
    "import numpy as np\n",
    "import pandas as pd\n",
    "import matplotlib.pyplot as plt\n",
    "import warnings\n",
    "from matplotlib.font_manager import FontProperties\n",
    "from plotly.offline import download_plotlyjs, init_notebook_mode, plot, iplot\n",
    "from reconstruct_grid import *\n",
    "\n",
    "# Connect Plotly in offline mode. \n",
    "init_notebook_mode(connected = True) \n",
    "warnings.simplefilter(action='ignore', category=FutureWarning)"
   ]
  },
  {
   "cell_type": "code",
   "execution_count": 2,
   "metadata": {},
   "outputs": [
    {
     "name": "stderr",
     "output_type": "stream",
     "text": [
      "/!\\ Using default reward signal, as reward_signal.py file is not found\n"
     ]
    }
   ],
   "source": [
    "import os\n",
    "import pypownet.pypownet.environment\n",
    "import pypownet.pypownet.runner\n",
    "\n",
    "# Initialize the env.\n",
    "environment = pypownet.environment.RunEnv(parameters_folder=os.path.abspath('data'),\n",
    "                                          game_level='4_substations',\n",
    "                                          chronic_looping_mode='natural', start_id=0,\n",
    "                                          game_over_mode='hard' )"
   ]
  },
  {
   "cell_type": "markdown",
   "metadata": {},
   "source": [
    "<a id='grid_info'></a>"
   ]
  },
  {
   "cell_type": "markdown",
   "metadata": {},
   "source": [
    "<h3 style=\"font-family:'Verdana',sans-serif; color:#1D7874;\">4. Grid Information</h3>"
   ]
  },
  {
   "cell_type": "markdown",
   "metadata": {},
   "source": [
    "<p style=\"font-family:'Verdana','sans-serif'; color:#393D3F; text-align:justify; font-size:14px;\">\n",
    "Despide the grid is very small and simple, all information is accessible directly using the pypownet environment. Let's get some information about the most important objects over a power grid: power lines, electrical nodes, loads (aka consumptions) and generators (aka productions). \n",
    "<br><br>\n",
    "    The state of those objects are very important in the reinforcement learning challenge as they will be used in observations. It means that given you observe the switch status, power flows, etc the agent should be able to take the correct action to keep flows in normal condition as possible. The following lines of code retrieve the nodes or substations ids and the numbers of elements connected to each busbar. \n",
    "</p>"
   ]
  },
  {
   "cell_type": "code",
   "execution_count": 3,
   "metadata": {},
   "outputs": [
    {
     "name": "stdout",
     "output_type": "stream",
     "text": [
      "Num of loads in total: 3 -> Loads ids:\n",
      "[2 3 4]\n",
      "Num of gen in total: 2 -> Generators id:\n",
      "[1 2]\n",
      "Total transmission lines: 5\n",
      "\n",
      "Line sender id:\n",
      "[1 1 1 2 3]\n",
      "Line receiver id:\n",
      "[2 3 4 4 4]\n",
      "\n",
      "Numbers of elements of subestation:\n",
      "++  ++  ++  ++  ++  ++  ++  ++  ++\n",
      "SE: 1 - # elements: 4\n",
      "SE: 2 - # elements: 4\n",
      "SE: 3 - # elements: 3\n",
      "SE: 4 - # elements: 4\n"
     ]
    }
   ],
   "source": [
    "# Load ids\n",
    "loads_id = environment.action_space.loads_subs_ids\n",
    "print ('Num of loads in total: {} -> Loads ids:'.format(len(loads_id), loads_id))\n",
    "print (loads_id)\n",
    "\n",
    "# Generators irds\n",
    "gen_id = environment.action_space.prods_subs_ids\n",
    "print ('Num of gen in total: {} -> Generators id:'.format(len(gen_id), gen_id))\n",
    "print (gen_id)\n",
    "\n",
    "# Line id sender\n",
    "line_sender_id = environment.action_space.lines_or_subs_id\n",
    "print ('Total transmission lines: {}'.format(len(line_sender_id)))\n",
    "print ()\n",
    "print ('Line sender id:')\n",
    "print (line_sender_id)\n",
    "\n",
    "# Line receiver id\n",
    "line_rcv_id = environment.action_space.lines_ex_subs_id\n",
    "print ('Line receiver id:')\n",
    "print (line_rcv_id)\n",
    "print ()\n",
    "\n",
    "# Num of elements per SE\n",
    "print ('Numbers of elements of subestation:')\n",
    "print ('++  ++  ++  ++  ++  ++  ++  ++  ++')\n",
    "for i in environment.action_space.substations_ids:\n",
    "    print ('SE: {:d} - # elements: {}'.format(int(i), \n",
    "                                              environment.action_space.get_number_elements_of_substation(i)))\n"
   ]
  },
  {
   "cell_type": "markdown",
   "metadata": {},
   "source": [
    "<p style=\"font-family:'Verdana','sans-serif'; color:#393D3F; text-align:justify; font-size:14px;\">\n",
    "Another important factor to control in grid operation is electrical losses. They are present due to some natural electricity physical behavior. They cause an imbalance between productions and consumptions. Losses are more pronounced in long lines because they offer more resistant to the current flows. The general formula is indicated below:\n",
    "<br><br>\n",
    "$$production = consumption + losses$$\n",
    "<br>\n",
    "You can get a general idea about losses taking the difference between generators and loads. Running one step in the environment you could get the observation given an action. For now, an action that does not change the status of the switch is passed (action_do_nothing), thus all production and consumptions information are retrieve it.\n",
    "<br><br>\n",
    "</p>"
   ]
  },
  {
   "cell_type": "code",
   "execution_count": 4,
   "metadata": {},
   "outputs": [],
   "source": [
    "action_space = environment.action_space\n",
    "observation_space = environment.observation_space\n",
    "game = environment.game\n",
    "\n",
    "# Create do_nothing action.\n",
    "action_do_nothing = action_space.get_do_nothing_action()"
   ]
  },
  {
   "cell_type": "code",
   "execution_count": 5,
   "metadata": {},
   "outputs": [
    {
     "name": "stdout",
     "output_type": "stream",
     "text": [
      "<class 'numpy.ndarray'>\n"
     ]
    }
   ],
   "source": [
    "# Run one step in the environment\n",
    "obs, *_ = environment.step(action_do_nothing)\n",
    "print (type(obs))\n",
    "\n",
    "# for key, value in obs.items():\n",
    "#      print(key, value)"
   ]
  },
  {
   "cell_type": "markdown",
   "metadata": {},
   "source": [
    "<p style=\"font-family:'Verdana','sans-serif'; color:#393D3F; text-align:justify; font-size:14px;\">\n",
    "As you see the observation is a numpy array. Sometimes is better to transform it as observation calling the following method with pypownet.\n",
    "</p>"
   ]
  },
  {
   "cell_type": "code",
   "execution_count": 6,
   "metadata": {},
   "outputs": [
    {
     "data": {
      "text/plain": [
       "{'active_loads': array([11., 21., 51.]),\n",
       " 'are_loads_cut': array([0., 0., 0.]),\n",
       " 'loads_nodes': array([0., 0., 0.]),\n",
       " 'active_productions': array([74.22710962, 16.        ]),\n",
       " 'are_productions_cut': array([0., 0.]),\n",
       " 'productions_nodes': array([0., 0.]),\n",
       " 'lines_or_nodes': array([0., 0., 0., 0., 0.]),\n",
       " 'lines_ex_nodes': array([0., 0., 0., 0., 0.]),\n",
       " 'ampere_flows': array([ 9.27676801, 15.58783358, 18.49298615, 10.9899144 ,  3.02175015]),\n",
       " 'lines_status': array([1., 1., 1., 1., 1.]),\n",
       " 'timesteps_before_lines_reconnectable': array([0., 0., 0., 0., 0.]),\n",
       " 'timesteps_before_planned_maintenance': array([0., 0., 0., 0., 0.]),\n",
       " 'timesteps_before_lines_reactionable': array([0., 0., 0., 0., 0.]),\n",
       " 'timesteps_before_nodes_reactionable': array([0., 0., 0., 0.]),\n",
       " 'planned_active_loads': array([12., 22., 52.]),\n",
       " 'planned_active_productions': array([123.,  60.]),\n",
       " 'date_year': array([2018.]),\n",
       " 'date_month': array([1.]),\n",
       " 'date_day': array([2.]),\n",
       " 'date_hour': array([0.]),\n",
       " 'date_minute': array([5.]),\n",
       " 'date_second': array([0.]),\n",
       " 'reactive_loads': array([3., 4., 5.]),\n",
       " 'voltage_loads': array([1.01199997, 0.92186012, 0.91966772]),\n",
       " 'reactive_productions': array([-6.93685227, 11.66856931]),\n",
       " 'voltage_productions': array([1.01599998, 1.01199997]),\n",
       " 'active_flows_origin': array([14.3248979 , 27.37164051, 32.53057121, 18.65286116,  4.13947781]),\n",
       " 'reactive_flows_origin': array([-7.82944877,  1.80213267, -0.90953618,  4.81182002, -2.47869786]),\n",
       " 'voltage_flows_origin': array([1.01599998, 1.01599998, 1.01599998, 1.01199997, 0.92186012]),\n",
       " 'active_flows_extremity': array([-13.65280731, -25.13947563, -29.42115495, -17.5078973 ,\n",
       "         -4.07094004]),\n",
       " 'reactive_flows_extremity': array([ 3.85674928, -1.52129179, -0.22240252, -5.47178506,  0.69419548]),\n",
       " 'voltage_flows_extremity': array([1.01199997, 0.92186012, 0.91966772, 0.91966772, 0.91966772]),\n",
       " 'planned_reactive_loads': array([3., 4., 5.]),\n",
       " 'planned_voltage_productions': array([1.01699997, 1.01400002]),\n",
       " 'substations_ids': array([1., 2., 3., 4.]),\n",
       " 'loads_substations_ids': array([2., 3., 4.]),\n",
       " 'productions_substations_ids': array([1., 2.]),\n",
       " 'lines_or_substations_ids': array([1., 1., 1., 2., 3.]),\n",
       " 'lines_ex_substations_ids': array([2., 3., 4., 4., 4.]),\n",
       " 'thermal_limits': array([179., 179., 230., 179., 179.]),\n",
       " 'initial_productions_nodes': array([0., 0.]),\n",
       " 'initial_loads_nodes': array([0., 0., 0.]),\n",
       " 'initial_lines_or_nodes': array([0., 0., 0., 0., 0.]),\n",
       " 'initial_lines_ex_nodes': array([0., 0., 0., 0., 0.])}"
      ]
     },
     "execution_count": 6,
     "metadata": {},
     "output_type": "execute_result"
    }
   ],
   "source": [
    "obs = observation_space.array_to_observation(obs)\n",
    "vars(obs)"
   ]
  },
  {
   "cell_type": "markdown",
   "metadata": {},
   "source": [
    "<p style=\"font-family:'Verdana','sans-serif'; color:#393D3F; text-align:justify; font-size:14px;\">\n",
    "The observation contains all essential information about the grid. For now, we will compute the losses in transmission lines taking the difference between what gets out from origin nodes and what gets into the extremity ones."
   ]
  },
  {
   "cell_type": "code",
   "execution_count": 7,
   "metadata": {},
   "outputs": [
    {
     "name": "stdout",
     "output_type": "stream",
     "text": [
      "Losses in transmission lines [0.67209059 2.23216488 3.10941626 1.14496386 0.06853777] MW\n",
      "Total sum losses in lines 7.227 MW\n"
     ]
    }
   ],
   "source": [
    "# Losses in transmission lines.\n",
    "losses_in_lines = np.abs(obs.active_flows_origin) - np.abs(obs.active_flows_extremity)\n",
    "print ('Losses in transmission lines {} MW'.format(losses_in_lines))\n",
    "print ('Total sum losses in lines {:.4} MW'.format(sum(losses_in_lines)))"
   ]
  },
  {
   "cell_type": "markdown",
   "metadata": {},
   "source": [
    "<p style=\"font-family:'Verdana','sans-serif'; color:#393D3F; text-align:justify; font-size:14px;\">\n",
    "The same value could be computed taking into account the formula described above.\n",
    "</p>"
   ]
  },
  {
   "cell_type": "code",
   "execution_count": 8,
   "metadata": {},
   "outputs": [
    {
     "name": "stdout",
     "output_type": "stream",
     "text": [
      "Total production 90.23 MW\n",
      "Total consumption 83.0 MW\n",
      "Losses in grid (prod - consump) 7.227 MW\n"
     ]
    }
   ],
   "source": [
    "print ('Total production {:.4} MW'.format(sum(obs.active_productions)))\n",
    "print ('Total consumption {:.4} MW'.format(sum(obs.active_loads)))\n",
    "print ('Losses in grid (prod - consump) {:.4} MW'.format(sum(obs.active_productions) - sum(obs.active_loads)))"
   ]
  },
  {
   "cell_type": "markdown",
   "metadata": {},
   "source": [
    "<p style=\"font-family:'Verdana','sans-serif'; color:#393D3F; text-align:justify; font-size:14px;\">\n",
    "Once reviewed how to obtain the grid information, It is time to execute actions. An action vector should be initialized beforehand. The vector will be modified it later with the desire action applied to a particular switch status in substations or lines.\n",
    "<br><br>\n",
    "    A random substation could be chosen first to create the corresponding Action Class which we named as applied action. The Class contains different methods to change the grid topology. \n",
    "</p>"
   ]
  },
  {
   "cell_type": "code",
   "execution_count": 9,
   "metadata": {},
   "outputs": [
    {
     "name": "stdout",
     "output_type": "stream",
     "text": [
      "<class 'pypownet.game.Action'>\n"
     ]
    }
   ],
   "source": [
    "# substation id.\n",
    "sub_id = 2\n",
    "\n",
    "# Create new_config array as do_nothing for \n",
    "# the current substation and an action array \n",
    "# as type action class.\n",
    "new_config = np.zeros(action_space.get_number_elements_of_substation(sub_id))\n",
    "applied_action = action_space.set_substation_switches_in_action(action_do_nothing, sub_id, new_config)\n",
    "print (type(applied_action))"
   ]
  },
  {
   "cell_type": "markdown",
   "metadata": {},
   "source": [
    "<p style=\"font-family:'Verdana','sans-serif'; color:#393D3F; text-align:justify; font-size:14px;\">\n",
    "The next function allows us to perform a few iterations using the step method in the environment given an action as an input and returns the observation variables as the power flow results, switches states, etc.\n",
    "</p>"
   ]
  },
  {
   "cell_type": "code",
   "execution_count": 10,
   "metadata": {},
   "outputs": [],
   "source": [
    "import copy\n",
    "\n",
    "def sim(action, \n",
    "        t_action=0):\n",
    "    \n",
    "    # Restart all the game from the scratch.\n",
    "    env = []\n",
    "    env = pypownet.environment.RunEnv(parameters_folder=os.path.abspath('data'),\n",
    "                                          game_level='4_substations',\n",
    "                                          chronic_looping_mode='natural', start_id=0,\n",
    "                                          game_over_mode='hard') \n",
    "\n",
    "    observation_space=env.observation_space\n",
    "    \n",
    "    # Iterating process..\n",
    "    for i in range(1):\n",
    "    \n",
    "        # Execute action at step 0.\n",
    "        if i == t_action: \n",
    "            obs_arry, *_ = env.step(action)\n",
    "            obs = observation_space.array_to_observation(obs_arry)\n",
    "            obs_action = copy.deepcopy(obs)\n",
    "    \n",
    "    return env, obs_action"
   ]
  },
  {
   "cell_type": "markdown",
   "metadata": {},
   "source": [
    "<a id='grid'></a>"
   ]
  },
  {
   "cell_type": "markdown",
   "metadata": {},
   "source": [
    "<h3 style=\"font-family:'Verdana',sans-serif; color:#1D7874;\">5. A simple grid</h3>\n",
    "\n",
    "<p style=\"font-family:'Verdana','sans-serif'; color:#393D3F; text-align:justify; font-size:14px;\">\n",
    "The grid with four substations without any action is presented as follows. All power plants, consumptions and lines are on service and the load flows are indicating in each substation.\n",
    "</p>"
   ]
  },
  {
   "cell_type": "markdown",
   "metadata": {},
   "source": [
    "<div class=\"alert alert-warning\">\n",
    "    Note: How to interprate the flows?... for transmission lines (or) stands for origin and the convention is to take the flow as positive while (ex) means extremity and should have taken as negative. Thus one might guess the power flow direction.\n",
    "</div>"
   ]
  },
  {
   "cell_type": "code",
   "execution_count": 11,
   "metadata": {},
   "outputs": [],
   "source": [
    "layout = {'1':(-10, 10), '2':(10, 10), '3':(-10, -10), '4':(10, -10)}\n",
    "label_pos = {'1':'top left', '2':'top right', '3':'bottom left', '4':'bottom right'}"
   ]
  },
  {
   "cell_type": "code",
   "execution_count": 12,
   "metadata": {
    "scrolled": false
   },
   "outputs": [
    {
     "name": "stderr",
     "output_type": "stream",
     "text": [
      "/!\\ Using default reward signal, as reward_signal.py file is not found\n"
     ]
    },
    {
     "data": {
      "application/vnd.plotly.v1+json": {
       "data": [
        {
         "line": {
          "color": "red",
          "width": 6
         },
         "mode": "line",
         "type": "scatter",
         "x": [],
         "y": []
        },
        {
         "hoverinfo": "text",
         "line": {
          "color": "#888",
          "width": 1.4
         },
         "mode": "lines",
         "type": "scatter",
         "x": [
          -10,
          10,
          null,
          -10,
          -10,
          null,
          -10,
          10,
          null,
          10,
          10,
          null,
          -10,
          10,
          null
         ],
         "y": [
          10,
          10,
          null,
          10,
          -10,
          null,
          10,
          -10,
          null,
          10,
          -10,
          null,
          -10,
          -10,
          null
         ]
        },
        {
         "hoverinfo": "text",
         "marker": {
          "color": [
           "rgb(227,26,28)",
           "rgb(227,26,28)",
           "rgb(31,120,180)",
           "rgb(31,120,180)"
          ],
          "line": {
           "color": "rgb(100,100,100)",
           "width": 2
          },
          "size": [
           47,
           47,
           32,
           32
          ]
         },
         "mode": "markers+text",
         "text": [
          "Results:<br>Prod: 74.2 MW<br>TLor{1-2} 14.3 MW<br>TLor{1-3} 27.4 MW<br>TLor{1-4} 32.5 MW",
          "Results:<br>Prod: 16.0 MW<br>Load: 11.0 MW<br>TLor{2-4} 18.7 MW<br>TLex{2-1} -13.7 MW",
          "Results:<br>Load: 21.0 MW<br>TLor{3-4} 4.1 MW<br>TLex{3-1} -25.1 MW",
          "Results:<br>Load: 51.0 MW<br>TLex{4-1} -29.4 MW<br>TLex{4-2} -17.5 MW<br>TLex{4-3} -4.1 MW"
         ],
         "textfont": {
          "color": "rgb(50,50,50)",
          "size": 9
         },
         "textposition": [
          "top left",
          "top right",
          "bottom left",
          "bottom right"
         ],
         "type": "scatter",
         "x": [
          -10,
          10,
          -10,
          10
         ],
         "y": [
          10,
          10,
          -10,
          -10
         ]
        }
       ],
       "layout": {
        "annotations": [
         {
          "font": {
           "color": "rgb(255,255,255)",
           "size": 10
          },
          "showarrow": false,
          "text": "1",
          "x": -10,
          "xref": "x1",
          "y": 10,
          "yref": "y1"
         },
         {
          "font": {
           "color": "rgb(255,255,255)",
           "size": 10
          },
          "showarrow": false,
          "text": "2",
          "x": 10,
          "xref": "x1",
          "y": 10,
          "yref": "y1"
         },
         {
          "font": {
           "color": "rgb(255,255,255)",
           "size": 10
          },
          "showarrow": false,
          "text": "3",
          "x": -10,
          "xref": "x1",
          "y": -10,
          "yref": "y1"
         },
         {
          "font": {
           "color": "rgb(255,255,255)",
           "size": 10
          },
          "showarrow": false,
          "text": "4",
          "x": 10,
          "xref": "x1",
          "y": -10,
          "yref": "y1"
         }
        ],
        "margin": {
         "b": 10,
         "l": 5,
         "r": 5,
         "t": 10
        },
        "showlegend": false,
        "xaxis": {
         "range": [
          -45,
          45
         ],
         "showgrid": false,
         "showticklabels": false,
         "zeroline": false
        },
        "yaxis": {
         "range": [
          -45,
          45
         ],
         "showgrid": false,
         "showticklabels": false,
         "zeroline": false
        }
       }
      },
      "text/html": [
       "<div id=\"11258bbc-622b-4f32-bdeb-dab860271dcb\" style=\"height: 525px; width: 100%;\" class=\"plotly-graph-div\"></div><script type=\"text/javascript\">require([\"plotly\"], function(Plotly) { window.PLOTLYENV=window.PLOTLYENV || {};window.PLOTLYENV.BASE_URL=\"https://plot.ly\";Plotly.newPlot(\"11258bbc-622b-4f32-bdeb-dab860271dcb\", [{\"type\": \"scatter\", \"mode\": \"line\", \"line\": {\"width\": 6, \"color\": \"red\"}, \"x\": [], \"y\": []}, {\"type\": \"scatter\", \"x\": [-10, 10, null, -10, -10, null, -10, 10, null, 10, 10, null, -10, 10, null], \"y\": [10, 10, null, 10, -10, null, 10, -10, null, 10, -10, null, -10, -10, null], \"line\": {\"width\": 1.4, \"color\": \"#888\"}, \"hoverinfo\": \"text\", \"mode\": \"lines\"}, {\"type\": \"scatter\", \"x\": [-10, 10, -10, 10], \"y\": [10, 10, -10, -10], \"text\": [\"Results:<br>Prod: 74.2 MW<br>TLor{1-2} 14.3 MW<br>TLor{1-3} 27.4 MW<br>TLor{1-4} 32.5 MW\", \"Results:<br>Prod: 16.0 MW<br>Load: 11.0 MW<br>TLor{2-4} 18.7 MW<br>TLex{2-1} -13.7 MW\", \"Results:<br>Load: 21.0 MW<br>TLor{3-4} 4.1 MW<br>TLex{3-1} -25.1 MW\", \"Results:<br>Load: 51.0 MW<br>TLex{4-1} -29.4 MW<br>TLex{4-2} -17.5 MW<br>TLex{4-3} -4.1 MW\"], \"mode\": \"markers+text\", \"hoverinfo\": \"text\", \"textposition\": [\"top left\", \"top right\", \"bottom left\", \"bottom right\"], \"textfont\": {\"size\": 9, \"color\": \"rgb(50,50,50)\"}, \"marker\": {\"color\": [\"rgb(227,26,28)\", \"rgb(227,26,28)\", \"rgb(31,120,180)\", \"rgb(31,120,180)\"], \"size\": [47.0, 47.0, 32.0, 32.0], \"line\": {\"color\": \"rgb(100,100,100)\", \"width\": 2}}}], {\"showlegend\": false, \"margin\": {\"b\": 10, \"l\": 5, \"r\": 5, \"t\": 10}, \"xaxis\": {\"showgrid\": false, \"zeroline\": false, \"showticklabels\": false, \"range\": [-45, 45]}, \"yaxis\": {\"showgrid\": false, \"zeroline\": false, \"showticklabels\": false, \"range\": [-45, 45]}, \"annotations\": [{\"text\": \"1\", \"x\": -10, \"y\": 10, \"xref\": \"x1\", \"yref\": \"y1\", \"font\": {\"color\": \"rgb(255,255,255)\", \"size\": 10}, \"showarrow\": false}, {\"text\": \"2\", \"x\": 10, \"y\": 10, \"xref\": \"x1\", \"yref\": \"y1\", \"font\": {\"color\": \"rgb(255,255,255)\", \"size\": 10}, \"showarrow\": false}, {\"text\": \"3\", \"x\": -10, \"y\": -10, \"xref\": \"x1\", \"yref\": \"y1\", \"font\": {\"color\": \"rgb(255,255,255)\", \"size\": 10}, \"showarrow\": false}, {\"text\": \"4\", \"x\": 10, \"y\": -10, \"xref\": \"x1\", \"yref\": \"y1\", \"font\": {\"color\": \"rgb(255,255,255)\", \"size\": 10}, \"showarrow\": false}]}, {\"showLink\": true, \"linkText\": \"Export to plot.ly\"})});</script>"
      ],
      "text/vnd.plotly.v1+html": [
       "<div id=\"11258bbc-622b-4f32-bdeb-dab860271dcb\" style=\"height: 525px; width: 100%;\" class=\"plotly-graph-div\"></div><script type=\"text/javascript\">require([\"plotly\"], function(Plotly) { window.PLOTLYENV=window.PLOTLYENV || {};window.PLOTLYENV.BASE_URL=\"https://plot.ly\";Plotly.newPlot(\"11258bbc-622b-4f32-bdeb-dab860271dcb\", [{\"type\": \"scatter\", \"mode\": \"line\", \"line\": {\"width\": 6, \"color\": \"red\"}, \"x\": [], \"y\": []}, {\"type\": \"scatter\", \"x\": [-10, 10, null, -10, -10, null, -10, 10, null, 10, 10, null, -10, 10, null], \"y\": [10, 10, null, 10, -10, null, 10, -10, null, 10, -10, null, -10, -10, null], \"line\": {\"width\": 1.4, \"color\": \"#888\"}, \"hoverinfo\": \"text\", \"mode\": \"lines\"}, {\"type\": \"scatter\", \"x\": [-10, 10, -10, 10], \"y\": [10, 10, -10, -10], \"text\": [\"Results:<br>Prod: 74.2 MW<br>TLor{1-2} 14.3 MW<br>TLor{1-3} 27.4 MW<br>TLor{1-4} 32.5 MW\", \"Results:<br>Prod: 16.0 MW<br>Load: 11.0 MW<br>TLor{2-4} 18.7 MW<br>TLex{2-1} -13.7 MW\", \"Results:<br>Load: 21.0 MW<br>TLor{3-4} 4.1 MW<br>TLex{3-1} -25.1 MW\", \"Results:<br>Load: 51.0 MW<br>TLex{4-1} -29.4 MW<br>TLex{4-2} -17.5 MW<br>TLex{4-3} -4.1 MW\"], \"mode\": \"markers+text\", \"hoverinfo\": \"text\", \"textposition\": [\"top left\", \"top right\", \"bottom left\", \"bottom right\"], \"textfont\": {\"size\": 9, \"color\": \"rgb(50,50,50)\"}, \"marker\": {\"color\": [\"rgb(227,26,28)\", \"rgb(227,26,28)\", \"rgb(31,120,180)\", \"rgb(31,120,180)\"], \"size\": [47.0, 47.0, 32.0, 32.0], \"line\": {\"color\": \"rgb(100,100,100)\", \"width\": 2}}}], {\"showlegend\": false, \"margin\": {\"b\": 10, \"l\": 5, \"r\": 5, \"t\": 10}, \"xaxis\": {\"showgrid\": false, \"zeroline\": false, \"showticklabels\": false, \"range\": [-45, 45]}, \"yaxis\": {\"showgrid\": false, \"zeroline\": false, \"showticklabels\": false, \"range\": [-45, 45]}, \"annotations\": [{\"text\": \"1\", \"x\": -10, \"y\": 10, \"xref\": \"x1\", \"yref\": \"y1\", \"font\": {\"color\": \"rgb(255,255,255)\", \"size\": 10}, \"showarrow\": false}, {\"text\": \"2\", \"x\": 10, \"y\": 10, \"xref\": \"x1\", \"yref\": \"y1\", \"font\": {\"color\": \"rgb(255,255,255)\", \"size\": 10}, \"showarrow\": false}, {\"text\": \"3\", \"x\": -10, \"y\": -10, \"xref\": \"x1\", \"yref\": \"y1\", \"font\": {\"color\": \"rgb(255,255,255)\", \"size\": 10}, \"showarrow\": false}, {\"text\": \"4\", \"x\": 10, \"y\": -10, \"xref\": \"x1\", \"yref\": \"y1\", \"font\": {\"color\": \"rgb(255,255,255)\", \"size\": 10}, \"showarrow\": false}]}, {\"showLink\": true, \"linkText\": \"Export to plot.ly\"})});</script>"
      ]
     },
     "metadata": {},
     "output_type": "display_data"
    }
   ],
   "source": [
    "# Run the game.\n",
    "n_iter = 1\n",
    "\n",
    "# Run the environment.\n",
    "env, obs = sim(action_do_nothing)\n",
    "\n",
    "# Get the grid.\n",
    "grid_do_nothing = reconstruct_grid(env, obs, action_do_nothing, \n",
    "                                   layout, label_pos, size=(45,45), replace_dic=True)\n",
    "iplot(grid_do_nothing)"
   ]
  },
  {
   "cell_type": "markdown",
   "metadata": {},
   "source": [
    "<h4 style=\"font-family:'Verdana',sans-serif; color:#1D7874;\">How to interpret the results?</h4>\n",
    "\n",
    "<p style=\"font-family:'Verdana','sans-serif'; color:#393D3F; text-align:justify; font-size:14px;\">\n",
    "The values of the power flows are attached to each node. As we mentioned earlier, the direction has to be taken positive if it leaves the substations and negative otherwise. On the other hand, the flow is negative if comes into the substation and change the sign otherwise. For instance, the direction of the flow in the line 1-4 gets out the substation 1 and gets in substation 4. \n",
    "</p>"
   ]
  },
  {
   "cell_type": "markdown",
   "metadata": {},
   "source": [
    "<a id='line_cut'></a>"
   ]
  },
  {
   "cell_type": "markdown",
   "metadata": {},
   "source": [
    "<h3 style=\"font-family:'Verdana',sans-serif; color:#1D7874;\">6. Line disconnection</h3>\n",
    "\n",
    "<p style=\"font-family:'Verdana','sans-serif'; color:#393D3F; text-align:justify; font-size:14px;\">\n",
    "    Transmission lines link different states or regions between productions and consumptions. They have long distance and are subjected to suddenly disconnections due to thunderstorms. It is natural to have one or more lines out-of-service along the day because of thunder hits a line. This number tends to increase during winter. \n",
    "<br><br>\n",
    "    A disconnected line changes the configuration on the grid and causes a power flow's redistribution in the grid. Sometimes these undesired events lead to some overloads in other lines. You have not guess the reason why yet? The answer is very intuitive. When a thunder hits a line, the same amount of energy is demanded by customers but now you have one path less in the grid to transmit the energy, and if one via is affected the others will be loaded with more power.\n",
    "<br><br>\n",
    "    Substations are equipped with relays to disconnect a line whether a malfunctioning is detected. Normally the criteria to disconnect a line under an overload condition is to measure the flow and the time a line remains with some flow. Above a given threshold the relay order to open a line.\n",
    "<br><br>\n",
    "    This behavior occurs many times in electrical systems and the expertise and vast knowledge of operators help to alleviate the stress in order to guarantee energy to customers. A similar action could be replicated using pypownet. We simulate a disconnection in our small grid to see the resultant state of the grid.\n",
    "</p>"
   ]
  },
  {
   "cell_type": "markdown",
   "metadata": {},
   "source": [
    "<div class=\"alert alert-warning\">\n",
    "    Note: The user can modify and play with other lines.\n",
    "</div>"
   ]
  },
  {
   "cell_type": "code",
   "execution_count": 13,
   "metadata": {},
   "outputs": [],
   "source": [
    "# Specify the line to be disconnected.\n",
    "id_line = 0"
   ]
  },
  {
   "cell_type": "code",
   "execution_count": 14,
   "metadata": {},
   "outputs": [
    {
     "name": "stdout",
     "output_type": "stream",
     "text": [
      "New action vector\n",
      "[0 0 0 0 0 0 0 0 0 0 0 0 0 0 0 1 0 0 0 0]\n"
     ]
    }
   ],
   "source": [
    "# Initialize action class with a ramdom substation (1)\n",
    "new_config = np.zeros(action_space.get_number_elements_of_substation(1))\n",
    "applied_action = action_space.set_substation_switches_in_action(action_do_nothing, 1, new_config)\n",
    "\n",
    "# Apply the action (change switch status of a line)\n",
    "action_space.set_lines_status_switch_from_id(action=applied_action,\n",
    "                                             line_id=id_line,\n",
    "                                             new_switch_value=1)\n",
    "\n",
    "print ('New action vector')\n",
    "print (applied_action.as_array())"
   ]
  },
  {
   "cell_type": "markdown",
   "metadata": {},
   "source": [
    "<h4 style=\"font-family:'Verdana',sans-serif; color:#1D7874;\">How the action vector is compossed?</h4>\n",
    "\n",
    "<p style=\"font-family:'Verdana','sans-serif'; color:#393D3F; text-align:justify; font-size:14px;\">\n",
    "    The action vector is no more than a concatenation over all arrays allowed to change the status to each element (on/off) in the grid. By default all elements are online before running the game. In the following figure you have a clear representation of the action vector for this particular case.\n",
    "<br><br>\n",
    "    <img src=\"http://i63.tinypic.com/fk8vn5.png\", width=850, ALIGN=\"middle\">\n",
    "<br><br>\n",
    "    But what really is an action?. An action in pypownet simulates what electrical operators do in control rooms. They monitor the grid in real time and can execute commands in a HMI (Human-Machine Interface) that are sent them to substations to open or close elements. The following figure try to illustrate this principle. \n",
    "<br><br>\n",
    "    <img src=\"http://i68.tinypic.com/5edc1s.png\", width=700, ALIGN=\"middle\">\n",
    "</p>"
   ]
  },
  {
   "cell_type": "markdown",
   "metadata": {},
   "source": [
    "<p style=\"font-family:'Verdana','sans-serif'; color:#393D3F; text-align:justify; font-size:14px;\">\n",
    "Once the action vector has been created, let's run the game to see how the grid is affected.\n",
    "</p>"
   ]
  },
  {
   "cell_type": "code",
   "execution_count": 15,
   "metadata": {},
   "outputs": [
    {
     "name": "stderr",
     "output_type": "stream",
     "text": [
      "/!\\ Using default reward signal, as reward_signal.py file is not found\n"
     ]
    },
    {
     "data": {
      "application/vnd.plotly.v1+json": {
       "data": [
        {
         "line": {
          "color": "red",
          "width": 6
         },
         "mode": "line",
         "type": "scatter",
         "x": [
          -10,
          -10,
          null,
          -10,
          10,
          null
         ],
         "y": [
          10,
          -10,
          null,
          10,
          -10,
          null
         ]
        },
        {
         "hoverinfo": "text",
         "line": {
          "color": "#888",
          "width": 1.4
         },
         "mode": "lines",
         "type": "scatter",
         "x": [
          -10,
          10,
          null,
          -10,
          -10,
          null,
          -10,
          10,
          null,
          10,
          10,
          null,
          -10,
          10,
          null
         ],
         "y": [
          10,
          10,
          null,
          10,
          -10,
          null,
          10,
          -10,
          null,
          10,
          -10,
          null,
          -10,
          -10,
          null
         ]
        },
        {
         "hoverinfo": "text",
         "marker": {
          "color": [
           "rgb(227,26,28)",
           "rgb(227,26,28)",
           "rgb(31,120,180)",
           "rgb(31,120,180)"
          ],
          "line": {
           "color": "rgb(100,100,100)",
           "width": 2
          },
          "size": [
           47,
           47,
           32,
           32
          ]
         },
         "mode": "markers+text",
         "text": [
          "Results:<br>Prod: 76.8 MW<br>TLor{1-2} 0.0 MW<br>TLor{1-3} 33.0 MW<br>TLor{1-4} 43.8 MW",
          "Results:<br>Prod: 16.0 MW<br>Load: 11.0 MW<br>TLor{2-4} 5.0 MW<br>TLex{2-1} 0.0 MW",
          "Results:<br>Load: 21.0 MW<br>TLor{3-4} 8.8 MW<br>TLex{3-1} -29.8 MW",
          "Results:<br>Load: 51.0 MW<br>TLex{4-1} -38.2 MW<br>TLex{4-2} -4.4 MW<br>TLex{4-3} -8.4 MW"
         ],
         "textfont": {
          "color": "rgb(50,50,50)",
          "size": 9
         },
         "textposition": [
          "top left",
          "top right",
          "bottom left",
          "bottom right"
         ],
         "type": "scatter",
         "x": [
          -10,
          10,
          -10,
          10
         ],
         "y": [
          10,
          10,
          -10,
          -10
         ]
        }
       ],
       "layout": {
        "annotations": [
         {
          "font": {
           "color": "rgb(255,255,255)",
           "size": 10
          },
          "showarrow": false,
          "text": "1",
          "x": -10,
          "xref": "x1",
          "y": 10,
          "yref": "y1"
         },
         {
          "font": {
           "color": "rgb(255,255,255)",
           "size": 10
          },
          "showarrow": false,
          "text": "2",
          "x": 10,
          "xref": "x1",
          "y": 10,
          "yref": "y1"
         },
         {
          "font": {
           "color": "rgb(255,255,255)",
           "size": 10
          },
          "showarrow": false,
          "text": "3",
          "x": -10,
          "xref": "x1",
          "y": -10,
          "yref": "y1"
         },
         {
          "font": {
           "color": "rgb(255,255,255)",
           "size": 10
          },
          "showarrow": false,
          "text": "4",
          "x": 10,
          "xref": "x1",
          "y": -10,
          "yref": "y1"
         }
        ],
        "margin": {
         "b": 10,
         "l": 5,
         "r": 5,
         "t": 10
        },
        "showlegend": false,
        "xaxis": {
         "range": [
          -45,
          45
         ],
         "showgrid": false,
         "showticklabels": false,
         "zeroline": false
        },
        "yaxis": {
         "range": [
          -45,
          45
         ],
         "showgrid": false,
         "showticklabels": false,
         "zeroline": false
        }
       }
      },
      "text/html": [
       "<div id=\"320c079a-0d01-4f65-9a77-8221ce1052b0\" style=\"height: 525px; width: 100%;\" class=\"plotly-graph-div\"></div><script type=\"text/javascript\">require([\"plotly\"], function(Plotly) { window.PLOTLYENV=window.PLOTLYENV || {};window.PLOTLYENV.BASE_URL=\"https://plot.ly\";Plotly.newPlot(\"320c079a-0d01-4f65-9a77-8221ce1052b0\", [{\"type\": \"scatter\", \"mode\": \"line\", \"line\": {\"width\": 6, \"color\": \"red\"}, \"x\": [-10, -10, null, -10, 10, null], \"y\": [10, -10, null, 10, -10, null]}, {\"type\": \"scatter\", \"x\": [-10, 10, null, -10, -10, null, -10, 10, null, 10, 10, null, -10, 10, null], \"y\": [10, 10, null, 10, -10, null, 10, -10, null, 10, -10, null, -10, -10, null], \"line\": {\"width\": 1.4, \"color\": \"#888\"}, \"hoverinfo\": \"text\", \"mode\": \"lines\"}, {\"type\": \"scatter\", \"x\": [-10, 10, -10, 10], \"y\": [10, 10, -10, -10], \"text\": [\"Results:<br>Prod: 76.8 MW<br>TLor{1-2} 0.0 MW<br>TLor{1-3} 33.0 MW<br>TLor{1-4} 43.8 MW\", \"Results:<br>Prod: 16.0 MW<br>Load: 11.0 MW<br>TLor{2-4} 5.0 MW<br>TLex{2-1} 0.0 MW\", \"Results:<br>Load: 21.0 MW<br>TLor{3-4} 8.8 MW<br>TLex{3-1} -29.8 MW\", \"Results:<br>Load: 51.0 MW<br>TLex{4-1} -38.2 MW<br>TLex{4-2} -4.4 MW<br>TLex{4-3} -8.4 MW\"], \"mode\": \"markers+text\", \"hoverinfo\": \"text\", \"textposition\": [\"top left\", \"top right\", \"bottom left\", \"bottom right\"], \"textfont\": {\"size\": 9, \"color\": \"rgb(50,50,50)\"}, \"marker\": {\"color\": [\"rgb(227,26,28)\", \"rgb(227,26,28)\", \"rgb(31,120,180)\", \"rgb(31,120,180)\"], \"size\": [47.0, 47.0, 32.0, 32.0], \"line\": {\"color\": \"rgb(100,100,100)\", \"width\": 2}}}], {\"showlegend\": false, \"margin\": {\"b\": 10, \"l\": 5, \"r\": 5, \"t\": 10}, \"xaxis\": {\"showgrid\": false, \"zeroline\": false, \"showticklabels\": false, \"range\": [-45, 45]}, \"yaxis\": {\"showgrid\": false, \"zeroline\": false, \"showticklabels\": false, \"range\": [-45, 45]}, \"annotations\": [{\"text\": \"1\", \"x\": -10, \"y\": 10, \"xref\": \"x1\", \"yref\": \"y1\", \"font\": {\"color\": \"rgb(255,255,255)\", \"size\": 10}, \"showarrow\": false}, {\"text\": \"2\", \"x\": 10, \"y\": 10, \"xref\": \"x1\", \"yref\": \"y1\", \"font\": {\"color\": \"rgb(255,255,255)\", \"size\": 10}, \"showarrow\": false}, {\"text\": \"3\", \"x\": -10, \"y\": -10, \"xref\": \"x1\", \"yref\": \"y1\", \"font\": {\"color\": \"rgb(255,255,255)\", \"size\": 10}, \"showarrow\": false}, {\"text\": \"4\", \"x\": 10, \"y\": -10, \"xref\": \"x1\", \"yref\": \"y1\", \"font\": {\"color\": \"rgb(255,255,255)\", \"size\": 10}, \"showarrow\": false}]}, {\"showLink\": true, \"linkText\": \"Export to plot.ly\"})});</script>"
      ],
      "text/vnd.plotly.v1+html": [
       "<div id=\"320c079a-0d01-4f65-9a77-8221ce1052b0\" style=\"height: 525px; width: 100%;\" class=\"plotly-graph-div\"></div><script type=\"text/javascript\">require([\"plotly\"], function(Plotly) { window.PLOTLYENV=window.PLOTLYENV || {};window.PLOTLYENV.BASE_URL=\"https://plot.ly\";Plotly.newPlot(\"320c079a-0d01-4f65-9a77-8221ce1052b0\", [{\"type\": \"scatter\", \"mode\": \"line\", \"line\": {\"width\": 6, \"color\": \"red\"}, \"x\": [-10, -10, null, -10, 10, null], \"y\": [10, -10, null, 10, -10, null]}, {\"type\": \"scatter\", \"x\": [-10, 10, null, -10, -10, null, -10, 10, null, 10, 10, null, -10, 10, null], \"y\": [10, 10, null, 10, -10, null, 10, -10, null, 10, -10, null, -10, -10, null], \"line\": {\"width\": 1.4, \"color\": \"#888\"}, \"hoverinfo\": \"text\", \"mode\": \"lines\"}, {\"type\": \"scatter\", \"x\": [-10, 10, -10, 10], \"y\": [10, 10, -10, -10], \"text\": [\"Results:<br>Prod: 76.8 MW<br>TLor{1-2} 0.0 MW<br>TLor{1-3} 33.0 MW<br>TLor{1-4} 43.8 MW\", \"Results:<br>Prod: 16.0 MW<br>Load: 11.0 MW<br>TLor{2-4} 5.0 MW<br>TLex{2-1} 0.0 MW\", \"Results:<br>Load: 21.0 MW<br>TLor{3-4} 8.8 MW<br>TLex{3-1} -29.8 MW\", \"Results:<br>Load: 51.0 MW<br>TLex{4-1} -38.2 MW<br>TLex{4-2} -4.4 MW<br>TLex{4-3} -8.4 MW\"], \"mode\": \"markers+text\", \"hoverinfo\": \"text\", \"textposition\": [\"top left\", \"top right\", \"bottom left\", \"bottom right\"], \"textfont\": {\"size\": 9, \"color\": \"rgb(50,50,50)\"}, \"marker\": {\"color\": [\"rgb(227,26,28)\", \"rgb(227,26,28)\", \"rgb(31,120,180)\", \"rgb(31,120,180)\"], \"size\": [47.0, 47.0, 32.0, 32.0], \"line\": {\"color\": \"rgb(100,100,100)\", \"width\": 2}}}], {\"showlegend\": false, \"margin\": {\"b\": 10, \"l\": 5, \"r\": 5, \"t\": 10}, \"xaxis\": {\"showgrid\": false, \"zeroline\": false, \"showticklabels\": false, \"range\": [-45, 45]}, \"yaxis\": {\"showgrid\": false, \"zeroline\": false, \"showticklabels\": false, \"range\": [-45, 45]}, \"annotations\": [{\"text\": \"1\", \"x\": -10, \"y\": 10, \"xref\": \"x1\", \"yref\": \"y1\", \"font\": {\"color\": \"rgb(255,255,255)\", \"size\": 10}, \"showarrow\": false}, {\"text\": \"2\", \"x\": 10, \"y\": 10, \"xref\": \"x1\", \"yref\": \"y1\", \"font\": {\"color\": \"rgb(255,255,255)\", \"size\": 10}, \"showarrow\": false}, {\"text\": \"3\", \"x\": -10, \"y\": -10, \"xref\": \"x1\", \"yref\": \"y1\", \"font\": {\"color\": \"rgb(255,255,255)\", \"size\": 10}, \"showarrow\": false}, {\"text\": \"4\", \"x\": 10, \"y\": -10, \"xref\": \"x1\", \"yref\": \"y1\", \"font\": {\"color\": \"rgb(255,255,255)\", \"size\": 10}, \"showarrow\": false}]}, {\"showLink\": true, \"linkText\": \"Export to plot.ly\"})});</script>"
      ]
     },
     "metadata": {},
     "output_type": "display_data"
    }
   ],
   "source": [
    "# Convert action vector Class into array.\n",
    "applied_action = applied_action.as_array()\n",
    "# Run simulation\n",
    "env, obs = sim(applied_action)\n",
    "\n",
    "# Plot the grid.\n",
    "grid_do_nothing = reconstruct_grid(env, obs, applied_action, \n",
    "                                   layout, label_pos, size=(45,45), replace_dic=True)\n",
    "iplot(grid_do_nothing)"
   ]
  },
  {
   "cell_type": "markdown",
   "metadata": {},
   "source": [
    "<h4 style=\"font-family:'Verdana',sans-serif; color:#1D7874;\">Analyzing results?</h4>\n",
    "\n",
    "<p style=\"font-family:'Verdana','sans-serif'; color:#393D3F; text-align:justify; font-size:14px;\">\n",
    "In the previous results, we simulated a line disconnection originated by a lightning in the path 1-2. You immediately may notice overloads events over the lines 1-4 and 1-3. The resulting power flow, after the redistribution, causes a  flow increments over their thermal limits. In such condition, electrical operators have a few minutes to execute remedial actions to alleviate the system.\n",
    "</p>"
   ]
  },
  {
   "cell_type": "markdown",
   "metadata": {},
   "source": [
    "<a id='config'></a>"
   ]
  },
  {
   "cell_type": "markdown",
   "metadata": {},
   "source": [
    "<h3 style=\"font-family:'Verdana',sans-serif; color:#1D7874;\">7. Inside a Substation</h3>\n",
    "\n",
    "<p style=\"font-family:'Verdana','sans-serif'; color:#393D3F; text-align:justify; font-size:14px;\">\n",
    "    A power grid is composed of power lines connected through substations. Within a substation, there can be several arrangements between branches (lines, generators and loads) that allow them to meet. There exist many predefined configurations and each of them are better than others in terms of reliability.\n",
    "<br><br>\n",
    "    In this notebook, we will explore one type of configuration name as \"double busbar\".It is considered one of the most flexible and reliable configurations. It consists of two bars which are link together and branches could be connected to whatever of those. Substations in pypownet have this pre-defined configuration, which means that you can create to two electrical nodes per substations simulating a node-splitting.\n",
    "<br><br>\n",
    "    <img src=\"http://i65.tinypic.com/9s6y2s.png\", width=800, ALIGN=\"middle\">\n",
    "<br><br>\n",
    "    You can see in the first diagram is what is inside in a substation with a double busbar configuration. Regularly, all busbars are connected to each other. An action could split the busbars and pass some elements to the desired bar, thus a flow reconfiguration is possible.\n",
    "</p>"
   ]
  },
  {
   "cell_type": "markdown",
   "metadata": {},
   "source": [
    "<a id='remedial'></a>"
   ]
  },
  {
   "cell_type": "markdown",
   "metadata": {},
   "source": [
    "<h3 style=\"font-family:'Verdana',sans-serif; color:#1D7874;\">8. A Remedial solution</h3>\n",
    "\n",
    "<p style=\"font-family:'Verdana','sans-serif'; color:#393D3F; text-align:justify; font-size:14px;\">\n",
    "    When an overload is detected, operators have to execute a remedial action to alleviate the stress in the system. Normally the experience gained by years by people who work in electrical control rooms is a crucial factor to determine the best one. \n",
    "<br><br>\n",
    "    Transmission networks are a bit complex with many paths where the power can flow (mesh grids). This also gives many alternatives to solve the congestions. In many countries changing the production is a valid solution. For instance, you can decrease the flow in the generators which are connected to the overloaded line and increase others that are near the consumptions.\n",
    "<br><br>\n",
    "    However, the previous one is costly, especially in countries where producers are market actors. An always cheap one is to play with the main grid configuration, thus one does not have to change the productions. These are the kind of actions RTE wants to build a new smart controllers for through the challenge. \n",
    "<br><br>\n",
    "    To illustrate the issue, let's imagine the flow in the line 1-4 and 1-3 have increased by some external factor (such a lightning in the line 1-2). How one would solve the congestion with topological reconfiguration? Actually, one solution is to split the substation 4 and connect the line a selective path 1-2-4. Thus, a fictitious double line is created to supply the energy for load in substation 4.\n",
    "<br><br>\n",
    "    This action can be modeled with pypownet as well. In the next lines of code, you can see all the steps needed to perform the desired action and to get the grid with the power flow results. A new configuration layout should be provided by the user. For example, in the example described below, we execute an action to split the node 4 and connected the extremity with the line that comes from the node 1, line 2 and the respective load.\n",
    "</p>"
   ]
  },
  {
   "cell_type": "code",
   "execution_count": 16,
   "metadata": {},
   "outputs": [],
   "source": [
    "# SE id we want to modify.\n",
    "sub_id = 4\n",
    "\n",
    "# Change internal configuration of SE.\n",
    "new_switch_config = [1, 1, 1, 0]"
   ]
  },
  {
   "cell_type": "code",
   "execution_count": 17,
   "metadata": {},
   "outputs": [],
   "source": [
    "new_config = np.zeros(action_space.get_number_elements_of_substation(sub_id))\n",
    "applied_action = action_space.set_substation_switches_in_action(action_do_nothing, sub_id, new_config)"
   ]
  },
  {
   "cell_type": "code",
   "execution_count": 18,
   "metadata": {},
   "outputs": [
    {
     "name": "stdout",
     "output_type": "stream",
     "text": [
      "New configuration of SE: 4\n",
      "++   ++   ++   ++   ++   +\n",
      "(1.0, consumption)\n",
      "(1.0, extremity of power line)\n",
      "(1.0, extremity of power line)\n",
      "(0.0, extremity of power line)\n"
     ]
    }
   ],
   "source": [
    "#  Set new switches to the new state.\n",
    "applied_action.set_substation_switches(sub_id, new_switch_config)\n",
    "\n",
    "# See changes.\n",
    "sub_i_new_config, sub_i_elm_type = applied_action.get_substation_switches(sub_id)\n",
    "print ('New configuration of SE: {}'.format(sub_id))\n",
    "print ('++   ++   ++   ++   ++   +')\n",
    "for switch_status, elm_sub_type in zip(sub_i_new_config, sub_i_elm_type):\n",
    "        print ('({}, {})'.format(switch_status, elm_sub_type.value))"
   ]
  },
  {
   "cell_type": "code",
   "execution_count": 19,
   "metadata": {},
   "outputs": [
    {
     "name": "stderr",
     "output_type": "stream",
     "text": [
      "/!\\ Using default reward signal, as reward_signal.py file is not found\n"
     ]
    },
    {
     "data": {
      "application/vnd.plotly.v1+json": {
       "data": [
        {
         "line": {
          "color": "red",
          "width": 6
         },
         "mode": "line",
         "type": "scatter",
         "x": [],
         "y": []
        },
        {
         "hoverinfo": "text",
         "line": {
          "color": "#888",
          "width": 1.4
         },
         "mode": "lines",
         "type": "scatter",
         "x": [
          -10,
          10,
          null,
          -10,
          -10,
          null,
          -10,
          10,
          null,
          10,
          10,
          null,
          -10,
          5,
          null
         ],
         "y": [
          10,
          10,
          null,
          10,
          -10,
          null,
          10,
          -10,
          null,
          10,
          -10,
          null,
          -10,
          -10,
          null
         ]
        },
        {
         "hoverinfo": "text",
         "marker": {
          "color": [
           "rgb(227,26,28)",
           "rgb(227,26,28)",
           "rgb(31,120,180)",
           "rgb(31,120,180)",
           "rgb(31,120,180)"
          ],
          "line": {
           "color": "rgb(100,100,100)",
           "width": 2
          },
          "size": [
           47,
           47,
           32,
           32,
           32
          ]
         },
         "mode": "markers+text",
         "text": [
          "Results:<br>Prod: 74.5 MW<br>TLor{1-2} 16.2 MW<br>TLor{1-3} 22.5 MW<br>TLor{1-6664} 35.8 MW",
          "Results:<br>Prod: 16.0 MW<br>Load: 11.0 MW<br>TLor{2-6664} 20.3 MW<br>TLex{2-1} -15.3 MW",
          "Results:<br>Load: 21.0 MW<br>TLor{3-4} 0.0 MW<br>TLex{3-1} -21.0 MW",
          "Results:<br>TLex{4-3} 0.0 MW",
          "Results:<br>Load: 51.0 MW<br>TLex{6664-1} -32.1 MW<br>TLex{6664-2} -18.9 MW"
         ],
         "textfont": {
          "color": "rgb(50,50,50)",
          "size": 9
         },
         "textposition": [
          "top left",
          "top right",
          "bottom left",
          "bottom center",
          "bottom right"
         ],
         "type": "scatter",
         "x": [
          -10,
          10,
          -10,
          5,
          10
         ],
         "y": [
          10,
          10,
          -10,
          -10,
          -10
         ]
        }
       ],
       "layout": {
        "annotations": [
         {
          "font": {
           "color": "rgb(255,255,255)",
           "size": 10
          },
          "showarrow": false,
          "text": "1",
          "x": -10,
          "xref": "x1",
          "y": 10,
          "yref": "y1"
         },
         {
          "font": {
           "color": "rgb(255,255,255)",
           "size": 10
          },
          "showarrow": false,
          "text": "2",
          "x": 10,
          "xref": "x1",
          "y": 10,
          "yref": "y1"
         },
         {
          "font": {
           "color": "rgb(255,255,255)",
           "size": 10
          },
          "showarrow": false,
          "text": "3",
          "x": -10,
          "xref": "x1",
          "y": -10,
          "yref": "y1"
         },
         {
          "font": {
           "color": "rgb(255,255,255)",
           "size": 10
          },
          "showarrow": false,
          "text": "4",
          "x": 5,
          "xref": "x1",
          "y": -10,
          "yref": "y1"
         },
         {
          "font": {
           "color": "rgb(255,255,255)",
           "size": 10
          },
          "showarrow": false,
          "text": "6664",
          "x": 10,
          "xref": "x1",
          "y": -10,
          "yref": "y1"
         }
        ],
        "margin": {
         "b": 10,
         "l": 5,
         "r": 5,
         "t": 10
        },
        "showlegend": false,
        "xaxis": {
         "range": [
          -45,
          45
         ],
         "showgrid": false,
         "showticklabels": false,
         "zeroline": false
        },
        "yaxis": {
         "range": [
          -45,
          45
         ],
         "showgrid": false,
         "showticklabels": false,
         "zeroline": false
        }
       }
      },
      "text/html": [
       "<div id=\"f4a71f73-5c80-4afd-8d4c-ff812abaac0f\" style=\"height: 525px; width: 100%;\" class=\"plotly-graph-div\"></div><script type=\"text/javascript\">require([\"plotly\"], function(Plotly) { window.PLOTLYENV=window.PLOTLYENV || {};window.PLOTLYENV.BASE_URL=\"https://plot.ly\";Plotly.newPlot(\"f4a71f73-5c80-4afd-8d4c-ff812abaac0f\", [{\"type\": \"scatter\", \"mode\": \"line\", \"line\": {\"width\": 6, \"color\": \"red\"}, \"x\": [], \"y\": []}, {\"type\": \"scatter\", \"x\": [-10, 10, null, -10, -10, null, -10, 10, null, 10, 10, null, -10, 5, null], \"y\": [10, 10, null, 10, -10, null, 10, -10, null, 10, -10, null, -10, -10, null], \"line\": {\"width\": 1.4, \"color\": \"#888\"}, \"hoverinfo\": \"text\", \"mode\": \"lines\"}, {\"type\": \"scatter\", \"x\": [-10, 10, -10, 5, 10], \"y\": [10, 10, -10, -10, -10], \"text\": [\"Results:<br>Prod: 74.5 MW<br>TLor{1-2} 16.2 MW<br>TLor{1-3} 22.5 MW<br>TLor{1-6664} 35.8 MW\", \"Results:<br>Prod: 16.0 MW<br>Load: 11.0 MW<br>TLor{2-6664} 20.3 MW<br>TLex{2-1} -15.3 MW\", \"Results:<br>Load: 21.0 MW<br>TLor{3-4} 0.0 MW<br>TLex{3-1} -21.0 MW\", \"Results:<br>TLex{4-3} 0.0 MW\", \"Results:<br>Load: 51.0 MW<br>TLex{6664-1} -32.1 MW<br>TLex{6664-2} -18.9 MW\"], \"mode\": \"markers+text\", \"hoverinfo\": \"text\", \"textposition\": [\"top left\", \"top right\", \"bottom left\", \"bottom center\", \"bottom right\"], \"textfont\": {\"size\": 9, \"color\": \"rgb(50,50,50)\"}, \"marker\": {\"color\": [\"rgb(227,26,28)\", \"rgb(227,26,28)\", \"rgb(31,120,180)\", \"rgb(31,120,180)\", \"rgb(31,120,180)\"], \"size\": [47.0, 47.0, 32.0, 32.0, 32.0], \"line\": {\"color\": \"rgb(100,100,100)\", \"width\": 2}}}], {\"showlegend\": false, \"margin\": {\"b\": 10, \"l\": 5, \"r\": 5, \"t\": 10}, \"xaxis\": {\"showgrid\": false, \"zeroline\": false, \"showticklabels\": false, \"range\": [-45, 45]}, \"yaxis\": {\"showgrid\": false, \"zeroline\": false, \"showticklabels\": false, \"range\": [-45, 45]}, \"annotations\": [{\"text\": \"1\", \"x\": -10, \"y\": 10, \"xref\": \"x1\", \"yref\": \"y1\", \"font\": {\"color\": \"rgb(255,255,255)\", \"size\": 10}, \"showarrow\": false}, {\"text\": \"2\", \"x\": 10, \"y\": 10, \"xref\": \"x1\", \"yref\": \"y1\", \"font\": {\"color\": \"rgb(255,255,255)\", \"size\": 10}, \"showarrow\": false}, {\"text\": \"3\", \"x\": -10, \"y\": -10, \"xref\": \"x1\", \"yref\": \"y1\", \"font\": {\"color\": \"rgb(255,255,255)\", \"size\": 10}, \"showarrow\": false}, {\"text\": \"4\", \"x\": 5, \"y\": -10, \"xref\": \"x1\", \"yref\": \"y1\", \"font\": {\"color\": \"rgb(255,255,255)\", \"size\": 10}, \"showarrow\": false}, {\"text\": \"6664\", \"x\": 10, \"y\": -10, \"xref\": \"x1\", \"yref\": \"y1\", \"font\": {\"color\": \"rgb(255,255,255)\", \"size\": 10}, \"showarrow\": false}]}, {\"showLink\": true, \"linkText\": \"Export to plot.ly\"})});</script>"
      ],
      "text/vnd.plotly.v1+html": [
       "<div id=\"f4a71f73-5c80-4afd-8d4c-ff812abaac0f\" style=\"height: 525px; width: 100%;\" class=\"plotly-graph-div\"></div><script type=\"text/javascript\">require([\"plotly\"], function(Plotly) { window.PLOTLYENV=window.PLOTLYENV || {};window.PLOTLYENV.BASE_URL=\"https://plot.ly\";Plotly.newPlot(\"f4a71f73-5c80-4afd-8d4c-ff812abaac0f\", [{\"type\": \"scatter\", \"mode\": \"line\", \"line\": {\"width\": 6, \"color\": \"red\"}, \"x\": [], \"y\": []}, {\"type\": \"scatter\", \"x\": [-10, 10, null, -10, -10, null, -10, 10, null, 10, 10, null, -10, 5, null], \"y\": [10, 10, null, 10, -10, null, 10, -10, null, 10, -10, null, -10, -10, null], \"line\": {\"width\": 1.4, \"color\": \"#888\"}, \"hoverinfo\": \"text\", \"mode\": \"lines\"}, {\"type\": \"scatter\", \"x\": [-10, 10, -10, 5, 10], \"y\": [10, 10, -10, -10, -10], \"text\": [\"Results:<br>Prod: 74.5 MW<br>TLor{1-2} 16.2 MW<br>TLor{1-3} 22.5 MW<br>TLor{1-6664} 35.8 MW\", \"Results:<br>Prod: 16.0 MW<br>Load: 11.0 MW<br>TLor{2-6664} 20.3 MW<br>TLex{2-1} -15.3 MW\", \"Results:<br>Load: 21.0 MW<br>TLor{3-4} 0.0 MW<br>TLex{3-1} -21.0 MW\", \"Results:<br>TLex{4-3} 0.0 MW\", \"Results:<br>Load: 51.0 MW<br>TLex{6664-1} -32.1 MW<br>TLex{6664-2} -18.9 MW\"], \"mode\": \"markers+text\", \"hoverinfo\": \"text\", \"textposition\": [\"top left\", \"top right\", \"bottom left\", \"bottom center\", \"bottom right\"], \"textfont\": {\"size\": 9, \"color\": \"rgb(50,50,50)\"}, \"marker\": {\"color\": [\"rgb(227,26,28)\", \"rgb(227,26,28)\", \"rgb(31,120,180)\", \"rgb(31,120,180)\", \"rgb(31,120,180)\"], \"size\": [47.0, 47.0, 32.0, 32.0, 32.0], \"line\": {\"color\": \"rgb(100,100,100)\", \"width\": 2}}}], {\"showlegend\": false, \"margin\": {\"b\": 10, \"l\": 5, \"r\": 5, \"t\": 10}, \"xaxis\": {\"showgrid\": false, \"zeroline\": false, \"showticklabels\": false, \"range\": [-45, 45]}, \"yaxis\": {\"showgrid\": false, \"zeroline\": false, \"showticklabels\": false, \"range\": [-45, 45]}, \"annotations\": [{\"text\": \"1\", \"x\": -10, \"y\": 10, \"xref\": \"x1\", \"yref\": \"y1\", \"font\": {\"color\": \"rgb(255,255,255)\", \"size\": 10}, \"showarrow\": false}, {\"text\": \"2\", \"x\": 10, \"y\": 10, \"xref\": \"x1\", \"yref\": \"y1\", \"font\": {\"color\": \"rgb(255,255,255)\", \"size\": 10}, \"showarrow\": false}, {\"text\": \"3\", \"x\": -10, \"y\": -10, \"xref\": \"x1\", \"yref\": \"y1\", \"font\": {\"color\": \"rgb(255,255,255)\", \"size\": 10}, \"showarrow\": false}, {\"text\": \"4\", \"x\": 5, \"y\": -10, \"xref\": \"x1\", \"yref\": \"y1\", \"font\": {\"color\": \"rgb(255,255,255)\", \"size\": 10}, \"showarrow\": false}, {\"text\": \"6664\", \"x\": 10, \"y\": -10, \"xref\": \"x1\", \"yref\": \"y1\", \"font\": {\"color\": \"rgb(255,255,255)\", \"size\": 10}, \"showarrow\": false}]}, {\"showLink\": true, \"linkText\": \"Export to plot.ly\"})});</script>"
      ]
     },
     "metadata": {},
     "output_type": "display_data"
    }
   ],
   "source": [
    "# Run the environment.\n",
    "env_after_action, obs_after_action = sim(applied_action.as_array())\n",
    "\n",
    "\n",
    "# Plot the grid.\n",
    "layout = {'1':(-10, 10), '2':(10, 10), '3':(-10, -10), '4':(5, -10),'6664':(10, -10)}\n",
    "label_pos = {'1':'top left', '2':'top right', '3':'bottom left', '4':'bottom center','6664':'bottom right'}\n",
    "\n",
    "grid_after_action = reconstruct_grid(env_after_action, \n",
    "                                     obs_after_action, \n",
    "                                     applied_action.as_array(), \n",
    "                                     layout, label_pos, size=(45,45), replace_dic=True)\n",
    "iplot(grid_after_action)"
   ]
  },
  {
   "cell_type": "markdown",
   "metadata": {},
   "source": [
    "<a id='conclusion'></a>"
   ]
  },
  {
   "cell_type": "markdown",
   "metadata": {},
   "source": [
    "<h3 style=\"font-family:'Verdana',sans-serif; color:#1D7874;\">9. Conclusion</h3>\n",
    "\n",
    "<p style=\"font-family:'Verdana','sans-serif'; color:#393D3F; text-align:justify; font-size:14px;\">\n",
    "    In this notebook, we reviewed very quickly the main operation principles in transmission networks with a small grid. The continuity of the electric power service is indispensable due to the fact clients in transmission grids are majorly distribution networks or large industries. A desired line disconnection without an effective action that could solve the problem might bring blackouts and economic losses. \n",
    "<br><br>\n",
    "    As we mentioned earlier, transmission operation involves many tasks but all of them are met to have one single objective: supply reliable and secure electricity. Operators work every day to minimize the impact of external factors that put the electrical system at risk but eventually when the grid is large and meshed, the daily operation is more complicated.\n",
    "<br><br>\n",
    "    The Pypownet platform was designed to interact together with the reinforcement learning approach. It allows executing actions in the transmission grid to manage lines with congestion without any cost involved. We covered all actions such as line disconnection and node splitting in the respective section. A user could play and execute more complicated ones.  \n",
    "<br><br>\n",
    "    The end state during the challenge is to train an agent able to learn a policy that could overcome obstacles that will be intentionally placed in some lines trying to reflect a real operation in transmission grids.\n",
    "</p>"
   ]
  },
  {
   "cell_type": "code",
   "execution_count": null,
   "metadata": {},
   "outputs": [],
   "source": []
  }
 ],
 "metadata": {
  "kernelspec": {
   "display_name": "Python 3",
   "language": "python",
   "name": "python3"
  },
  "language_info": {
   "codemirror_mode": {
    "name": "ipython",
    "version": 3
   },
   "file_extension": ".py",
   "mimetype": "text/x-python",
   "name": "python",
   "nbconvert_exporter": "python",
   "pygments_lexer": "ipython3",
   "version": "3.6.8"
  }
 },
 "nbformat": 4,
 "nbformat_minor": 1
}
